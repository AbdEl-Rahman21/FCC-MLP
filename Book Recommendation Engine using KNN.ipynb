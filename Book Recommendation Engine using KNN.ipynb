{
  "cells": [
    {
      "cell_type": "code",
      "execution_count": 1,
      "metadata": {
        "id": "Y1onB6kUvo4Z"
      },
      "outputs": [],
      "source": [
        "# import libraries (you may add additional imports but you may not have to)\n",
        "import numpy as np\n",
        "import pandas as pd\n",
        "from scipy.sparse import csr_matrix\n",
        "from sklearn.neighbors import NearestNeighbors\n",
        "from sklearn.preprocessing import OneHotEncoder\n",
        "import matplotlib.pyplot as plt"
      ]
    },
    {
      "cell_type": "code",
      "execution_count": null,
      "metadata": {
        "id": "iAQGqqO_vo4d"
      },
      "outputs": [],
      "source": [
        "# get data files\n",
        "!wget https://cdn.freecodecamp.org/project-data/books/book-crossings.zip\n",
        "\n",
        "!unzip book-crossings.zip\n",
        "\n",
        "books_filename = 'BX-Books.csv'\n",
        "ratings_filename = 'BX-Book-Ratings.csv'"
      ]
    },
    {
      "cell_type": "code",
      "execution_count": 3,
      "metadata": {
        "id": "NClILWOiEd6Q"
      },
      "outputs": [],
      "source": [
        "# import csv data into dataframes\n",
        "df_books = pd.read_csv(\n",
        "    books_filename,\n",
        "    encoding = \"ISO-8859-1\",\n",
        "    sep=\";\",\n",
        "    header=0,\n",
        "    names=['isbn', 'title', 'author'],\n",
        "    usecols=['isbn', 'title', 'author'],\n",
        "    dtype={'isbn': 'str', 'title': 'str', 'author': 'str'})\n",
        "\n",
        "df_ratings = pd.read_csv(\n",
        "    ratings_filename,\n",
        "    encoding = \"ISO-8859-1\",\n",
        "    sep=\";\",\n",
        "    header=0,\n",
        "    names=['user', 'isbn', 'rating'],\n",
        "    usecols=['user', 'isbn', 'rating'],\n",
        "    dtype={'user': 'int32', 'isbn': 'str', 'rating': 'float32'})"
      ]
    },
    {
      "cell_type": "code",
      "execution_count": 4,
      "metadata": {
        "id": "xAcXjkCFCh0A",
        "colab": {
          "base_uri": "https://localhost:8080/"
        },
        "outputId": "08ce2bc1-4c7a-4d9f-af8c-7dc7eba40a92",
        "collapsed": true
      },
      "outputs": [
        {
          "output_type": "stream",
          "name": "stdout",
          "text": [
            "<class 'pandas.core.frame.DataFrame'>\n",
            "RangeIndex: 271379 entries, 0 to 271378\n",
            "Data columns (total 3 columns):\n",
            " #   Column  Non-Null Count   Dtype \n",
            "---  ------  --------------   ----- \n",
            " 0   isbn    271379 non-null  object\n",
            " 1   title   271379 non-null  object\n",
            " 2   author  271377 non-null  object\n",
            "dtypes: object(3)\n",
            "memory usage: 6.2+ MB\n"
          ]
        }
      ],
      "source": [
        "df_books.info()"
      ]
    },
    {
      "cell_type": "code",
      "source": [
        "df_ratings.info()"
      ],
      "metadata": {
        "colab": {
          "base_uri": "https://localhost:8080/"
        },
        "id": "riVUQqG6VwzU",
        "outputId": "9b1deb4f-ee4f-4c2a-f7f2-b2890438d828",
        "collapsed": true
      },
      "execution_count": 5,
      "outputs": [
        {
          "output_type": "stream",
          "name": "stdout",
          "text": [
            "<class 'pandas.core.frame.DataFrame'>\n",
            "RangeIndex: 1149780 entries, 0 to 1149779\n",
            "Data columns (total 3 columns):\n",
            " #   Column  Non-Null Count    Dtype  \n",
            "---  ------  --------------    -----  \n",
            " 0   user    1149780 non-null  int32  \n",
            " 1   isbn    1149780 non-null  object \n",
            " 2   rating  1149780 non-null  float32\n",
            "dtypes: float32(1), int32(1), object(1)\n",
            "memory usage: 17.5+ MB\n"
          ]
        }
      ]
    },
    {
      "cell_type": "code",
      "source": [
        "df_books.dropna(inplace=True)\n",
        "\n",
        "df_ratings.dropna(inplace=True)"
      ],
      "metadata": {
        "id": "zpuFXF8oQrxW"
      },
      "execution_count": 6,
      "outputs": []
    },
    {
      "cell_type": "code",
      "source": [
        "df_books.drop_duplicates(inplace=True)\n",
        "\n",
        "df_ratings.drop_duplicates(inplace=True)"
      ],
      "metadata": {
        "id": "XM2I7S8mRTKs"
      },
      "execution_count": 7,
      "outputs": []
    },
    {
      "cell_type": "code",
      "source": [
        "number_of_reviews_per_user = df_ratings['user'].value_counts()\n",
        "\n",
        "users_with_200_reviews_or_more = number_of_reviews_per_user.loc[\n",
        "    number_of_reviews_per_user >= 200].index\n",
        "\n",
        "number_of_reviews_per_book = df_ratings['isbn'].value_counts()\n",
        "\n",
        "books_with_100_reviews_or_more = number_of_reviews_per_book.loc[\n",
        "    number_of_reviews_per_book >= 100].index"
      ],
      "metadata": {
        "id": "eIQ0Cv8VV0d4"
      },
      "execution_count": 8,
      "outputs": []
    },
    {
      "cell_type": "code",
      "source": [
        "df_ratings = df_ratings.loc[\n",
        "    (df_ratings['user'].isin(users_with_200_reviews_or_more)) &\n",
        "    (df_ratings['isbn'].isin(books_with_100_reviews_or_more))]"
      ],
      "metadata": {
        "id": "t7pktj_jZoJ4"
      },
      "execution_count": 9,
      "outputs": []
    },
    {
      "cell_type": "code",
      "source": [
        "df_books.info()"
      ],
      "metadata": {
        "colab": {
          "base_uri": "https://localhost:8080/"
        },
        "id": "Ulnt9LzUbAPR",
        "outputId": "f6568157-cdab-413a-9427-9acc6a6cb4f6",
        "collapsed": true
      },
      "execution_count": 10,
      "outputs": [
        {
          "output_type": "stream",
          "name": "stdout",
          "text": [
            "<class 'pandas.core.frame.DataFrame'>\n",
            "Index: 271377 entries, 0 to 271378\n",
            "Data columns (total 3 columns):\n",
            " #   Column  Non-Null Count   Dtype \n",
            "---  ------  --------------   ----- \n",
            " 0   isbn    271377 non-null  object\n",
            " 1   title   271377 non-null  object\n",
            " 2   author  271377 non-null  object\n",
            "dtypes: object(3)\n",
            "memory usage: 8.3+ MB\n"
          ]
        }
      ]
    },
    {
      "cell_type": "code",
      "source": [
        "df_ratings.info()"
      ],
      "metadata": {
        "colab": {
          "base_uri": "https://localhost:8080/"
        },
        "id": "dVHuhoBqberr",
        "outputId": "93685cf6-ad83-4568-8d56-6dbcd008faee",
        "collapsed": true
      },
      "execution_count": 11,
      "outputs": [
        {
          "output_type": "stream",
          "name": "stdout",
          "text": [
            "<class 'pandas.core.frame.DataFrame'>\n",
            "Index: 49781 entries, 1456 to 1147441\n",
            "Data columns (total 3 columns):\n",
            " #   Column  Non-Null Count  Dtype  \n",
            "---  ------  --------------  -----  \n",
            " 0   user    49781 non-null  int32  \n",
            " 1   isbn    49781 non-null  object \n",
            " 2   rating  49781 non-null  float32\n",
            "dtypes: float32(1), int32(1), object(1)\n",
            "memory usage: 1.1+ MB\n"
          ]
        }
      ]
    },
    {
      "cell_type": "code",
      "source": [
        "df_books_with_ratings = df_ratings.join(\n",
        "    df_books.set_index('isbn'), on='isbn').dropna()\n",
        "\n",
        "df_books_with_ratings.drop(['isbn'], axis=1, inplace=True)\n",
        "\n",
        "df_books_with_ratings.reset_index(drop=True, inplace=True)\n",
        "\n",
        "df_books_with_ratings.info()"
      ],
      "metadata": {
        "colab": {
          "base_uri": "https://localhost:8080/"
        },
        "collapsed": true,
        "id": "TJVy1qNkPY7v",
        "outputId": "cdf0df41-3509-4b9a-e2c2-3e03e2f6ae1f"
      },
      "execution_count": 12,
      "outputs": [
        {
          "output_type": "stream",
          "name": "stdout",
          "text": [
            "<class 'pandas.core.frame.DataFrame'>\n",
            "RangeIndex: 49517 entries, 0 to 49516\n",
            "Data columns (total 4 columns):\n",
            " #   Column  Non-Null Count  Dtype  \n",
            "---  ------  --------------  -----  \n",
            " 0   user    49517 non-null  int32  \n",
            " 1   rating  49517 non-null  float32\n",
            " 2   title   49517 non-null  object \n",
            " 3   author  49517 non-null  object \n",
            "dtypes: float32(1), int32(1), object(2)\n",
            "memory usage: 1.1+ MB\n"
          ]
        }
      ]
    },
    {
      "cell_type": "code",
      "source": [
        "df_books_with_ratings = df_books_with_ratings.pivot_table(\n",
        "    index=['title', 'author'], columns='user', values='rating', sort=False\n",
        "    ).fillna(0)\n",
        "\n",
        "df_books_with_ratings.reset_index(inplace=True)\n",
        "\n",
        "df_books_with_ratings.rename_axis(None, axis=1, inplace=True)\n",
        "\n",
        "df_books_with_ratings.info()"
      ],
      "metadata": {
        "colab": {
          "base_uri": "https://localhost:8080/"
        },
        "collapsed": true,
        "id": "Va5O2Jb4Xzlw",
        "outputId": "cf804eae-c9e2-4e29-90ae-a532158d3bd3"
      },
      "execution_count": 13,
      "outputs": [
        {
          "output_type": "stream",
          "name": "stdout",
          "text": [
            "<class 'pandas.core.frame.DataFrame'>\n",
            "RangeIndex: 681 entries, 0 to 680\n",
            "Columns: 890 entries, title to 275970\n",
            "dtypes: float32(888), object(2)\n",
            "memory usage: 2.3+ MB\n"
          ]
        }
      ]
    },
    {
      "cell_type": "code",
      "source": [
        "authors = df_books_with_ratings['author'].to_numpy().reshape(-1, 1)\n",
        "user_ratings = df_books_with_ratings.iloc[:, 2:]\n",
        "\n",
        "encoder = OneHotEncoder().fit(authors)\n",
        "\n",
        "book_matrix = np.concatenate(\n",
        "    (encoder.transform(authors).toarray(), user_ratings), axis=1)"
      ],
      "metadata": {
        "id": "nW5tQyjusTQA"
      },
      "execution_count": 14,
      "outputs": []
    },
    {
      "cell_type": "code",
      "execution_count": 15,
      "metadata": {
        "id": "f5ZUd-L1SQz7"
      },
      "outputs": [],
      "source": [
        "# function to return recommended books - this will be tested\n",
        "def get_recommends(book = \"\"):\n",
        "  recommended_books = [book, []]\n",
        "\n",
        "  book = df_books_with_ratings.loc[df_books_with_ratings['title'] == book]\n",
        "  book = np.append(encoder.transform(\n",
        "      np.array(book['author']).reshape(-1, 1)).toarray(), book.iloc[:, 2:])\n",
        "\n",
        "  knn = NearestNeighbors(n_neighbors=6, metric='cosine').fit(book_matrix)\n",
        "\n",
        "  nn = knn.kneighbors(book.reshape(1, -1))\n",
        "\n",
        "  for i in range(1, 6):\n",
        "    recommended_book = df_books_with_ratings.iloc[nn[1][0][i]]['title']\n",
        "\n",
        "    recommended_books[1].append([recommended_book, nn[0][0][i]])\n",
        "\n",
        "  recommended_books[1].reverse()\n",
        "\n",
        "  return recommended_books"
      ]
    },
    {
      "cell_type": "code",
      "execution_count": 16,
      "metadata": {
        "id": "jd2SLCh8oxMh",
        "colab": {
          "base_uri": "https://localhost:8080/"
        },
        "outputId": "c2944a82-1278-4b4e-d551-cde1c9597daf"
      },
      "outputs": [
        {
          "output_type": "stream",
          "name": "stdout",
          "text": [
            "[\"Where the Heart Is (Oprah's Book Club (Paperback))\", [[\"I'll Be Seeing You\", 0.801746825909877], ['The Weight of Water', 0.7710496334084845], ['The Surgeon', 0.7701682263650189], ['I Know This Much Is True', 0.767815567839601], ['The Lovely Bones: A Novel', 0.7235408977208326]]]\n",
            "You passed the challenge! 🎉🎉🎉🎉🎉\n"
          ]
        }
      ],
      "source": [
        "books = get_recommends(\"Where the Heart Is (Oprah's Book Club (Paperback))\")\n",
        "print(books)\n",
        "\n",
        "def test_book_recommendation():\n",
        "  test_pass = True\n",
        "  recommends = get_recommends(\"Where the Heart Is (Oprah's Book Club (Paperback))\")\n",
        "  if recommends[0] != \"Where the Heart Is (Oprah's Book Club (Paperback))\":\n",
        "    test_pass = False\n",
        "  recommended_books = [\"I'll Be Seeing You\", 'The Weight of Water', 'The Surgeon', 'I Know This Much Is True']\n",
        "  recommended_books_dist = [0.8, 0.77, 0.77, 0.77]\n",
        "  for i in range(2):\n",
        "    if recommends[1][i][0] not in recommended_books:\n",
        "      test_pass = False\n",
        "    if abs(recommends[1][i][1] - recommended_books_dist[i]) >= 0.05:\n",
        "      test_pass = False\n",
        "  if test_pass:\n",
        "    print(\"You passed the challenge! 🎉🎉🎉🎉🎉\")\n",
        "  else:\n",
        "    print(\"You haven't passed yet. Keep trying!\")\n",
        "\n",
        "test_book_recommendation()"
      ]
    }
  ],
  "metadata": {
    "colab": {
      "provenance": []
    },
    "kernelspec": {
      "display_name": "Python 3",
      "language": "python",
      "name": "python3"
    },
    "language_info": {
      "codemirror_mode": {
        "name": "ipython",
        "version": 3
      },
      "file_extension": ".py",
      "mimetype": "text/x-python",
      "name": "python",
      "nbconvert_exporter": "python",
      "pygments_lexer": "ipython3",
      "version": "3.6.5"
    }
  },
  "nbformat": 4,
  "nbformat_minor": 0
}