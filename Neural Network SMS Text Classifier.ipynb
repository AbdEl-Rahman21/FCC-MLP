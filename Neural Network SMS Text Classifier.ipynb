{
  "cells": [
    {
      "cell_type": "code",
      "execution_count": null,
      "metadata": {
        "id": "8RZOuS9LWQvv"
      },
      "outputs": [],
      "source": [
        "# import libraries\n",
        "import tensorflow as tf\n",
        "import pandas as pd\n",
        "from tensorflow import keras\n",
        "import numpy as np\n",
        "import matplotlib.pyplot as plt"
      ]
    },
    {
      "cell_type": "code",
      "execution_count": null,
      "metadata": {
        "id": "lMHwYXHXCar3"
      },
      "outputs": [],
      "source": [
        "# get data files\n",
        "!wget https://cdn.freecodecamp.org/project-data/sms/train-data.tsv\n",
        "!wget https://cdn.freecodecamp.org/project-data/sms/valid-data.tsv\n",
        "\n",
        "train_file_path = \"train-data.tsv\"\n",
        "test_file_path = \"valid-data.tsv\""
      ]
    },
    {
      "cell_type": "code",
      "execution_count": null,
      "metadata": {
        "id": "g_h508FEClxO"
      },
      "outputs": [],
      "source": [
        "train_dataset = pd.read_csv(\n",
        "    train_file_path,\n",
        "    sep='\\t',\n",
        "    header=None,\n",
        "    names=['label', 'message']\n",
        ")\n",
        "\n",
        "test_dataset = pd.read_csv(\n",
        "    test_file_path,\n",
        "    sep='\\t',\n",
        "    header=None,\n",
        "    names=['label', 'message']\n",
        ")"
      ]
    },
    {
      "cell_type": "code",
      "source": [
        "train_dataset.dropna(inplace=True)\n",
        "train_dataset.drop_duplicates(inplace=True)\n",
        "\n",
        "test_dataset.dropna(inplace=True)\n",
        "test_dataset.drop_duplicates(inplace=True)"
      ],
      "metadata": {
        "id": "s0HAfINqvUog"
      },
      "execution_count": null,
      "outputs": []
    },
    {
      "cell_type": "code",
      "source": [
        "train_dataset.info()"
      ],
      "metadata": {
        "id": "DDCcu_jsobEi"
      },
      "execution_count": null,
      "outputs": []
    },
    {
      "cell_type": "code",
      "source": [
        "test_dataset.info()"
      ],
      "metadata": {
        "id": "6tnUHif4sFwK"
      },
      "execution_count": null,
      "outputs": []
    },
    {
      "cell_type": "code",
      "source": [
        "train_dataset['label'] = train_dataset['label'].map(lambda x: 1 if x == 'spam' else 0)\n",
        "test_dataset['label'] = test_dataset['label'].map(lambda x: 1 if x == 'spam' else 0)"
      ],
      "metadata": {
        "id": "EhMAu9C1sfPA"
      },
      "execution_count": null,
      "outputs": []
    },
    {
      "cell_type": "code",
      "source": [
        "train_dataset.info()"
      ],
      "metadata": {
        "id": "vyYWfuHuvGbU"
      },
      "execution_count": null,
      "outputs": []
    },
    {
      "cell_type": "code",
      "source": [
        "test_dataset.info()"
      ],
      "metadata": {
        "id": "N4JeDqCovJhv"
      },
      "execution_count": null,
      "outputs": []
    },
    {
      "cell_type": "code",
      "source": [
        "train = tf.data.Dataset.from_tensor_slices((train_dataset['message'].values, train_dataset['label'].values))\n",
        "test = tf.data.Dataset.from_tensor_slices((test_dataset['message'].values, test_dataset['label'].values))"
      ],
      "metadata": {
        "id": "wiTJoe6ZwFGU"
      },
      "execution_count": null,
      "outputs": []
    },
    {
      "cell_type": "code",
      "source": [
        "VOCAB_SIZE = 1000\n",
        "SHUFFLE = 10000\n",
        "BATCH = 64"
      ],
      "metadata": {
        "id": "YzTIbgseABFd"
      },
      "execution_count": null,
      "outputs": []
    },
    {
      "cell_type": "code",
      "source": [
        "train = train.shuffle(SHUFFLE).batch(BATCH).prefetch(tf.data.AUTOTUNE)\n",
        "test = test.batch(BATCH).prefetch(tf.data.AUTOTUNE)"
      ],
      "metadata": {
        "id": "nhAr9WyU-DAM"
      },
      "execution_count": null,
      "outputs": []
    },
    {
      "cell_type": "code",
      "source": [
        "vectorizer = keras.layers.TextVectorization(max_tokens=VOCAB_SIZE)\n",
        "\n",
        "vectorizer.adapt(train.map(lambda message, label: message))"
      ],
      "metadata": {
        "id": "S1gPWuHaANFi"
      },
      "execution_count": null,
      "outputs": []
    },
    {
      "cell_type": "code",
      "source": [
        "model = keras.Sequential([\n",
        "    vectorizer,\n",
        "    keras.layers.Embedding(VOCAB_SIZE, 64, mask_zero=True),\n",
        "    keras.layers.Bidirectional(keras.layers.LSTM(64)),\n",
        "    keras.layers.Dense(64, activation='relu'),\n",
        "    keras.layers.Dense(1)\n",
        "])\n",
        "\n",
        "model.compile(\n",
        "    loss=keras.losses.BinaryCrossentropy(from_logits=True),\n",
        "    optimizer=keras.optimizers.Adam(),\n",
        "    metrics=['accuracy']\n",
        ")"
      ],
      "metadata": {
        "id": "DGcH1oteByz3"
      },
      "execution_count": null,
      "outputs": []
    },
    {
      "cell_type": "code",
      "source": [
        "model.fit(\n",
        "    train,\n",
        "    epochs=5,\n",
        "    validation_data=test\n",
        ")"
      ],
      "metadata": {
        "id": "usTtYj-QDdrR"
      },
      "execution_count": null,
      "outputs": []
    },
    {
      "cell_type": "code",
      "execution_count": null,
      "metadata": {
        "id": "J9tD9yACG6M9"
      },
      "outputs": [],
      "source": [
        "# function to predict messages based on model\n",
        "def predict_message(pred_text):\n",
        "  prediction = model.predict(tf.constant([pred_text]), batch_size=BATCH)\n",
        "\n",
        "  if prediction[0][0] > 0:\n",
        "    prediction = [prediction[0][0], 'spam']\n",
        "  else:\n",
        "    prediction = [prediction[0][0], 'ham']\n",
        "\n",
        "  return (prediction)\n",
        "\n",
        "pred_text = \"how are you doing today?\"\n",
        "\n",
        "prediction = predict_message(pred_text)\n",
        "print(prediction)"
      ]
    },
    {
      "cell_type": "code",
      "execution_count": null,
      "metadata": {
        "id": "Dxotov85SjsC"
      },
      "outputs": [],
      "source": [
        "# Run this cell to test your function and model. Do not modify contents.\n",
        "def test_predictions():\n",
        "  test_messages = [\"how are you doing today\",\n",
        "                   \"sale today! to stop texts call 98912460324\",\n",
        "                   \"i dont want to go. can we try it a different day? available sat\",\n",
        "                   \"our new mobile video service is live. just install on your phone to start watching.\",\n",
        "                   \"you have won £1000 cash! call to claim your prize.\",\n",
        "                   \"i'll bring it tomorrow. don't forget the milk.\",\n",
        "                   \"wow, is your arm alright. that happened to me one time too\"\n",
        "                  ]\n",
        "\n",
        "  test_answers = [\"ham\", \"spam\", \"ham\", \"spam\", \"spam\", \"ham\", \"ham\"]\n",
        "  passed = True\n",
        "\n",
        "  for msg, ans in zip(test_messages, test_answers):\n",
        "    prediction = predict_message(msg)\n",
        "    if prediction[1] != ans:\n",
        "      passed = False\n",
        "\n",
        "  if passed:\n",
        "    print(\"You passed the challenge. Great job!\")\n",
        "  else:\n",
        "    print(\"You haven't passed yet. Keep trying.\")\n",
        "\n",
        "test_predictions()"
      ]
    }
  ],
  "metadata": {
    "colab": {
      "private_outputs": true,
      "provenance": []
    },
    "kernelspec": {
      "display_name": "Python 3",
      "name": "python3"
    },
    "language_info": {}
  },
  "nbformat": 4,
  "nbformat_minor": 0
}